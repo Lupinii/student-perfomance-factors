{
 "cells": [
  {
   "cell_type": "code",
   "execution_count": 15,
   "id": "52777319",
   "metadata": {},
   "outputs": [
    {
     "name": "stdout",
     "output_type": "stream",
     "text": [
      "[65 66]\n"
     ]
    }
   ],
   "source": [
    "import pandas as pd\n",
    "from sklearn.tree import DecisionTreeClassifier\n",
    "from sklearn.preprocessing import OrdinalEncoder, OneHotEncoder, LabelEncoder\n",
    "from sklearn.compose import ColumnTransformer\n",
    "\n",
    "# Load and prepare data\n",
    "spf = pd.read_csv('StudentPerformanceFactors.csv')\n",
    "spf_dropped = spf.dropna(axis=0, how='any')\n",
    "X = spf_dropped.drop(columns=['Exam_Score'])\n",
    "y = spf_dropped['Exam_Score']\n",
    "\n",
    "# Define features\n",
    "numerical_features = ['Hours_Studied', 'Attendance', 'Sleep_Hours', \n",
    "                     'Previous_Scores', 'Tutoring_Sessions', 'Physical_Activity']\n",
    "                      \n",
    "categorical_features = ['Parental_Involvement', 'Access_to_Resources',\n",
    "                       'Extracurricular_Activities', 'Motivation_Level',\n",
    "                       'Internet_Access', 'Family_Income', 'Teacher_Quality',\n",
    "                       'School_Type', 'Peer_Influence', 'Learning_Disabilities',\n",
    "                       'Parental_Education_Level', 'Distance_from_Home', 'Gender']\n",
    "\n",
    "# Ordinal features with their categories\n",
    "ordinal_features = {\n",
    "    'Parental_Involvement': ['Low', 'Medium', 'High'],\n",
    "    'Access_to_Resources': ['Low', 'Medium', 'High'],\n",
    "    'Motivation_Level': ['Low', 'Medium', 'High'],\n",
    "    'Family_Income': ['Low', 'Medium', 'High'],\n",
    "    'Teacher_Quality': ['Low', 'Medium', 'High'],\n",
    "    'Peer_Influence': ['Negative', 'Neutral', 'Positive'],\n",
    "    'Parental_Education_Level': ['High School', 'College', 'Postgraduate'],\n",
    "    'Distance_from_Home': ['Near', 'Moderate', 'Far']\n",
    "}\n",
    "\n",
    "# Make a copy of X for encoding\n",
    "X_encoded = X.copy()\n",
    "\n",
    "# Create and store ordinal encoders for each ordinal feature\n",
    "ordinal_encoders = {}\n",
    "for feature, categories in ordinal_features.items():\n",
    "    encoder = OrdinalEncoder(categories=[categories])\n",
    "    X_encoded[feature] = encoder.fit_transform(X_encoded[[feature]])\n",
    "    ordinal_encoders[feature] = encoder\n",
    "\n",
    "# Remaining categorical features (for one-hot encoding)\n",
    "remaining_categoricals = [f for f in categorical_features if f not in ordinal_features]\n",
    "\n",
    "# Create preprocessor\n",
    "preprocessor = ColumnTransformer(\n",
    "    transformers=[\n",
    "        ('num', 'passthrough', numerical_features),\n",
    "        ('cat', OneHotEncoder(handle_unknown='ignore'), remaining_categoricals),\n",
    "        ('ord', 'passthrough', list(ordinal_features.keys()))\n",
    "    ]\n",
    ")\n",
    "\n",
    "# Encode y if needed\n",
    "if y.dtype == object:\n",
    "    le = LabelEncoder()\n",
    "    y_encoded = le.fit_transform(y)\n",
    "else:\n",
    "    y_encoded = y\n",
    "\n",
    "# Fit the preprocessor and transform X\n",
    "X_processed = preprocessor.fit_transform(X_encoded)\n",
    "\n",
    "# Train model\n",
    "model = DecisionTreeClassifier()\n",
    "model.fit(X_processed, y_encoded)\n",
    "\n",
    "# Create sample data\n",
    "sample_data = {\n",
    "    'Hours_Studied': [10, 11],\n",
    "    'Attendance': [90, 85],\n",
    "    'Parental_Involvement': ['Medium', 'High'],\n",
    "    'Access_to_Resources': ['High', 'Medium'],\n",
    "    'Extracurricular_Activities': ['Yes', 'No'],\n",
    "    'Sleep_Hours': [8, 7],\n",
    "    'Previous_Scores': [75, 80],\n",
    "    'Motivation_Level': ['High', 'Medium'],\n",
    "    'Internet_Access': ['Yes', 'Yes'],\n",
    "    'Tutoring_Sessions': [3, 1],\n",
    "    'Family_Income': ['Medium', 'High'],\n",
    "    'Teacher_Quality': ['High', 'High'],\n",
    "    'School_Type': ['Public', 'Private'],\n",
    "    'Peer_Influence': ['Positive', 'Neutral'],\n",
    "    'Physical_Activity': [3, 2],\n",
    "    'Learning_Disabilities': ['No', 'No'],\n",
    "    'Parental_Education_Level': ['College', 'Postgraduate'],\n",
    "    'Distance_from_Home': ['Moderate', 'Near'],\n",
    "    'Gender': ['Male', 'Female']\n",
    "}\n",
    "\n",
    "sample = pd.DataFrame(sample_data)\n",
    "\n",
    "# Preprocess sample the same way as training data\n",
    "sample_encoded = sample.copy()\n",
    "\n",
    "# Use the same ordinal encoders that were fitted on training data\n",
    "for feature, encoder in ordinal_encoders.items():\n",
    "    sample_encoded[feature] = encoder.transform(sample_encoded[[feature]])\n",
    "\n",
    "sample_processed = preprocessor.transform(sample_encoded)\n",
    "\n",
    "# Make predictions\n",
    "predictions_encoded = model.predict(sample_processed)\n",
    "\n",
    "# Convert back to original labels if needed\n",
    "if y.dtype == object:\n",
    "    predictions = le.inverse_transform(predictions_encoded)\n",
    "else:\n",
    "    predictions = predictions_encoded\n",
    "\n",
    "print(predictions)"
   ]
  },
  {
   "cell_type": "markdown",
   "id": "16f33873",
   "metadata": {},
   "source": [
    "1. Data Loading and Preparation"
   ]
  },
  {
   "cell_type": "code",
   "execution_count": null,
   "id": "fb930015",
   "metadata": {},
   "outputs": [],
   "source": [
    "spf = pd.read_csv('StudentPerformanceFactors.csv')\n",
    "spf_dropped = spf.dropna(axis=0, how='any')\n",
    "X = spf_dropped.drop(columns=['Exam_Score'])\n",
    "y = spf_dropped['Exam_Score']"
   ]
  },
  {
   "cell_type": "markdown",
   "id": "9d7e5677",
   "metadata": {},
   "source": [
    "Loads student performance data from a CSV file\n",
    "\n",
    "Drops rows with any missing values\n",
    "\n",
    "Separates features (X) from target variable (y = Exam_Score)"
   ]
  },
  {
   "cell_type": "markdown",
   "id": "cba0c91f",
   "metadata": {},
   "source": [
    "2. Feature Definition"
   ]
  },
  {
   "cell_type": "code",
   "execution_count": null,
   "id": "0316e2f7",
   "metadata": {},
   "outputs": [],
   "source": [
    "numerical_features = [...] # List of numerical columns\n",
    "categorical_features = [...] # List of categorical columns"
   ]
  },
  {
   "cell_type": "markdown",
   "id": "118387a0",
   "metadata": {},
   "source": [
    "Defines which columns contain numerical vs categorical data\n",
    "\n",
    "Numerical features are continuous values (hours, scores, counts)\n",
    "\n",
    "Categorical features are discrete values (categories, yes/no, levels)"
   ]
  },
  {
   "cell_type": "markdown",
   "id": "c049b0c0",
   "metadata": {},
   "source": [
    "3. Ordinal Feature Encoding"
   ]
  },
  {
   "cell_type": "code",
   "execution_count": null,
   "id": "1e9da355",
   "metadata": {},
   "outputs": [],
   "source": [
    "ordinal_features = {...} # Dictionary mapping features to their ordered categories\n",
    "ordinal_encoders = {}\n",
    "for feature, categories in ordinal_features.items():\n",
    "    encoder = OrdinalEncoder(categories=[categories])\n",
    "    X_encoded[feature] = encoder.fit_transform(X_encoded[[feature]])\n",
    "    ordinal_encoders[feature] = encoder"
   ]
  },
  {
   "cell_type": "markdown",
   "id": "67b862bd",
   "metadata": {},
   "source": [
    "Identifies ordinal categorical features (those with inherent order like Low/Medium/High)\n",
    "\n",
    "Creates and fits an OrdinalEncoder for each, storing the encoders for later use\n",
    "\n",
    "Transforms the ordinal features into numerical values (e.g., Low=0, Medium=1, High=2)"
   ]
  },
  {
   "cell_type": "markdown",
   "id": "60d4fcdc",
   "metadata": {},
   "source": [
    "4. Preprocessing Pipeline"
   ]
  },
  {
   "cell_type": "code",
   "execution_count": null,
   "id": "28fedac1",
   "metadata": {},
   "outputs": [],
   "source": [
    "remaining_categoricals = [...] # Non-ordinal categorical features\n",
    "preprocessor = ColumnTransformer([\n",
    "    ('num', 'passthrough', numerical_features),\n",
    "    ('cat', OneHotEncoder(), remaining_categoricals),\n",
    "    ('ord', 'passthrough', ordinal_features.keys())\n",
    "])"
   ]
  },
  {
   "cell_type": "markdown",
   "id": "34690463",
   "metadata": {},
   "source": [
    "Creates a preprocessing pipeline that:\n",
    "\n",
    "Passes through numerical features unchanged\n",
    "\n",
    "Applies OneHotEncoding to nominal categorical features (no inherent order)\n",
    "\n",
    "Passes through already-encoded ordinal features"
   ]
  },
  {
   "cell_type": "markdown",
   "id": "ebfb12a9",
   "metadata": {},
   "source": [
    "5. Target Variable Encoding"
   ]
  },
  {
   "cell_type": "code",
   "execution_count": null,
   "id": "08e0260d",
   "metadata": {},
   "outputs": [],
   "source": [
    "if y.dtype == object:\n",
    "    le = LabelEncoder()\n",
    "    y_encoded = le.fit_transform(y)"
   ]
  },
  {
   "cell_type": "markdown",
   "id": "3b874cfb",
   "metadata": {},
   "source": [
    "Encodes the target variable if it's categorical (converts strings to numbers)"
   ]
  },
  {
   "cell_type": "markdown",
   "id": "e3ddcefb",
   "metadata": {},
   "source": [
    "6. Model Training"
   ]
  },
  {
   "cell_type": "code",
   "execution_count": null,
   "id": "d6aedd34",
   "metadata": {},
   "outputs": [],
   "source": [
    "X_processed = preprocessor.fit_transform(X_encoded)\n",
    "model = DecisionTreeClassifier()\n",
    "model.fit(X_processed, y_encoded)"
   ]
  },
  {
   "cell_type": "markdown",
   "id": "c6f72569",
   "metadata": {},
   "source": [
    "Applies all preprocessing steps to the training data\n",
    "\n",
    "Trains a Decision Tree classifier on the processed data"
   ]
  },
  {
   "cell_type": "markdown",
   "id": "0b5e7341",
   "metadata": {},
   "source": [
    "7. Making Predictions on New Data"
   ]
  },
  {
   "cell_type": "code",
   "execution_count": null,
   "id": "52a1e1d7",
   "metadata": {},
   "outputs": [],
   "source": [
    "sample_data = {...} # New student data to predict\n",
    "sample = pd.DataFrame(sample_data)\n",
    "sample_encoded = sample.copy()\n",
    "for feature, encoder in ordinal_encoders.items():\n",
    "    sample_encoded[feature] = encoder.transform(sample_encoded[[feature]])\n",
    "sample_processed = preprocessor.transform(sample_encoded)\n",
    "predictions_encoded = model.predict(sample_processed)"
   ]
  },
  {
   "cell_type": "markdown",
   "id": "878213ae",
   "metadata": {},
   "source": [
    "Creates sample data for prediction\n",
    "\n",
    "Applies the same preprocessing steps used on training data:\n",
    "\n",
    "Uses the stored ordinal encoders\n",
    "\n",
    "Applies the same column transformations\n",
    "\n",
    "Makes predictions using the trained model"
   ]
  },
  {
   "cell_type": "markdown",
   "id": "992cef02",
   "metadata": {},
   "source": [
    "8. Output Results"
   ]
  },
  {
   "cell_type": "code",
   "execution_count": null,
   "id": "a2e97959",
   "metadata": {},
   "outputs": [],
   "source": [
    "if y.dtype == object:\n",
    "    predictions = le.inverse_transform(predictions_encoded)\n",
    "print(predictions)"
   ]
  },
  {
   "cell_type": "markdown",
   "id": "b85dfc60",
   "metadata": {},
   "source": [
    "If target was originally categorical, converts predictions back to original labels\n",
    "\n",
    "Prints the final predictions"
   ]
  },
  {
   "cell_type": "markdown",
   "id": "0396dab2",
   "metadata": {},
   "source": [
    "Key Concepts:\n",
    "Feature Engineering: Properly handling different data types (numerical, ordinal categorical, nominal categorical)\n",
    "\n",
    "Pipeline: Creating a reproducible preprocessing workflow that works the same way on training and new data\n",
    "\n",
    "Model Training: Using a Decision Tree classifier to learn patterns in the data\n",
    "\n",
    "Prediction: Applying the same transformations to new data before making predictions\n",
    "\n",
    "The code demonstrates a complete ML workflow from raw data to predictions while properly handling all data types and ensuring consistent preprocessing between training and prediction phases."
   ]
  }
 ],
 "metadata": {
  "kernelspec": {
   "display_name": "base",
   "language": "python",
   "name": "python3"
  },
  "language_info": {
   "codemirror_mode": {
    "name": "ipython",
    "version": 3
   },
   "file_extension": ".py",
   "mimetype": "text/x-python",
   "name": "python",
   "nbconvert_exporter": "python",
   "pygments_lexer": "ipython3",
   "version": "3.13.2"
  }
 },
 "nbformat": 4,
 "nbformat_minor": 5
}
